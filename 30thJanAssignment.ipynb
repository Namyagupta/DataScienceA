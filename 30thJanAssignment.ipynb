{
 "cells": [
  {
   "cell_type": "code",
   "execution_count": 4,
   "id": "b2da352f",
   "metadata": {},
   "outputs": [
    {
     "name": "stdout",
     "output_type": "stream",
     "text": [
      "Enter the percentage: \n",
      "95\n",
      "A\n"
     ]
    }
   ],
   "source": [
    "#Q1. Write a program to accept percentage from the user and display\n",
    "#the grade according to the following criteria\n",
    "print('Enter the percentage: ')\n",
    "n=int(input())\n",
    "if(n>90):\n",
    "    print('A')\n",
    "elif(n>80 and n<=90):\n",
    "    print('B')\n",
    "elif(n>=60 and n<80):\n",
    "    print('C')\n",
    "else:\n",
    "    print('D')"
   ]
  },
  {
   "cell_type": "code",
   "execution_count": 5,
   "id": "bee8dd4e",
   "metadata": {},
   "outputs": [
    {
     "name": "stdout",
     "output_type": "stream",
     "text": [
      "Enter the cost price: \n",
      "67000\n",
      "6700.0\n"
     ]
    }
   ],
   "source": [
    "#Q2. Write a program to accept the cost priceof a bike and display the road tax to be paid according \n",
    "#to the following criteria:\n",
    "print('Enter the cost price: ')\n",
    "n=int(input())\n",
    "if(n>100000):\n",
    "    print(n*0.15)\n",
    "elif(n>50000 and n<=100000):\n",
    "    print(n*0.10)\n",
    "else:\n",
    "    print(n*0.05)"
   ]
  },
  {
   "cell_type": "code",
   "execution_count": 6,
   "id": "a42ac9bf",
   "metadata": {},
   "outputs": [
    {
     "name": "stdout",
     "output_type": "stream",
     "text": [
      "Enter the city: \n",
      "Jaipur\n",
      "Jal Mahal\n"
     ]
    }
   ],
   "source": [
    "# Q3. Accept any city from the user and display monuments of that city.\n",
    "print('Enter the city: ')\n",
    "n=input()\n",
    "if(n=='Delhi'):\n",
    "    print('Red Fort')\n",
    "elif(n=='Agra'):\n",
    "    print('Taj Mahal')\n",
    "elif(n=='Jaipur'):\n",
    "    print('Jal Mahal')\n",
    "else:\n",
    "    print('monument')"
   ]
  },
  {
   "cell_type": "code",
   "execution_count": 9,
   "id": "182ac6d1",
   "metadata": {},
   "outputs": [
    {
     "name": "stdout",
     "output_type": "stream",
     "text": [
      "50\n",
      "2\n"
     ]
    }
   ],
   "source": [
    "#Q4. how many times a given number can be divided by 3 before it is\n",
    "#less than or equal to 10\n",
    "ctr = 0\n",
    "num = int(input())\n",
    "while (num>10):\n",
    "    num = num/3\n",
    "    ctr=ctr+1\n",
    "print(ctr)"
   ]
  },
  {
   "cell_type": "code",
   "execution_count": null,
   "id": "26f6431d",
   "metadata": {},
   "outputs": [],
   "source": [
    "#Q5. Why and When to Use while Loop in Python give a detailed description with example"
   ]
  },
  {
   "cell_type": "markdown",
   "id": "d4835ba4",
   "metadata": {},
   "source": [
    "The while loop in Python is used when you want to repeatedly execute a block of code as long as a certain condition is met. "
   ]
  },
  {
   "cell_type": "code",
   "execution_count": 10,
   "id": "ac8b53c4",
   "metadata": {},
   "outputs": [
    {
     "name": "stdout",
     "output_type": "stream",
     "text": [
      "0\n",
      "1\n",
      "2\n",
      "3\n",
      "4\n"
     ]
    }
   ],
   "source": [
    "count = 0\n",
    "\n",
    "# While loop\n",
    "\n",
    "while count < 5:\n",
    "    print(count)\n",
    "    count += 1"
   ]
  },
  {
   "cell_type": "markdown",
   "id": "e6f60d49",
   "metadata": {},
   "source": [
    "Q6. Use nested while loop to print 3 different pattern. "
   ]
  },
  {
   "cell_type": "code",
   "execution_count": 8,
   "id": "7623e308",
   "metadata": {},
   "outputs": [
    {
     "name": "stdout",
     "output_type": "stream",
     "text": [
      "\n",
      "*\n",
      "**\n",
      "***\n",
      "****\n",
      "*****\n",
      "\n",
      "\n",
      "*****\n",
      "****\n",
      "***\n",
      "**\n",
      "*\n",
      "\n",
      "\n",
      "**\n",
      "****\n",
      "******\n",
      "********\n",
      "**********\n",
      "************\n",
      "**************\n",
      "****************\n",
      "******************\n",
      "********************\n"
     ]
    }
   ],
   "source": [
    "#a\n",
    "i = 0 \n",
    "j = 0\n",
    "while (i<=5):\n",
    "    i = i+1 \n",
    "    while(j<=5):\n",
    "        print('*'*j)\n",
    "        j = j+1 \n",
    "print('\\n')        \n",
    "# b \n",
    "a = 5 \n",
    "b = 5\n",
    "while (a>0):\n",
    "    a = a-1 \n",
    "    while(b>0):\n",
    "        print('*'*b)\n",
    "        b -= 1 \n",
    "print('\\n') \n",
    "#c\n",
    "x = 0 \n",
    "y = 0 \n",
    "while (x<5):\n",
    "    x = x+1\n",
    "    while(y<10):\n",
    "        y = y+1 \n",
    "        print('*' *(y*2))\n"
   ]
  },
  {
   "cell_type": "markdown",
   "id": "41dcc09f",
   "metadata": {},
   "source": [
    " Q7. Reverse a while loop to display numbers from 10 to 1 "
   ]
  },
  {
   "cell_type": "code",
   "execution_count": 1,
   "id": "9c920d4a",
   "metadata": {},
   "outputs": [
    {
     "name": "stdout",
     "output_type": "stream",
     "text": [
      "10\n",
      "9\n",
      "8\n",
      "7\n",
      "6\n",
      "5\n",
      "4\n",
      "3\n",
      "2\n",
      "1\n"
     ]
    }
   ],
   "source": [
    "i=10\n",
    "while(i>0):\n",
    "    print(i)\n",
    "    i=i-1"
   ]
  }
 ],
 "metadata": {
  "kernelspec": {
   "display_name": "Python 3 (ipykernel)",
   "language": "python",
   "name": "python3"
  },
  "language_info": {
   "codemirror_mode": {
    "name": "ipython",
    "version": 3
   },
   "file_extension": ".py",
   "mimetype": "text/x-python",
   "name": "python",
   "nbconvert_exporter": "python",
   "pygments_lexer": "ipython3",
   "version": "3.9.12"
  }
 },
 "nbformat": 4,
 "nbformat_minor": 5
}
